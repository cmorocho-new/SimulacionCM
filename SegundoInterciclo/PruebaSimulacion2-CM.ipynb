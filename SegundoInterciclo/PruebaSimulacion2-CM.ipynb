{
 "cells": [
  {
   "cell_type": "markdown",
   "metadata": {},
   "source": [
    "## PRUEBA #2 (Numeros Aleatorios)\n",
    "\n",
    "#### AUTOR: CARLOS MOROCHO\n",
    "\n",
    "#### ENUNCIADO\n",
    "\n",
    "Introducción:\n",
    "Es fundamental verificar la calidad de los números  pseudoaleatorios. Ademas es importante no olvidar las 2 propiedades más importantes que deben tener los números pseudoaleatorios: uniformidad e independencia.\n",
    "\n",
    "La uniformidad se puede verificar usando las pruebas de bondad de ajuste test Chi Cuadrada\n",
    "\n",
    "Chi-Cuadrada\n",
    "\n",
    "Esta prueba verifica la desviación del valor esperado y  se usa cuando se trabaja con variables nominales (categorías o grupos)\n",
    "Debemos responder a la pregunta: ¿Difieren las frecuencias observadas de la frecuencia esperada?\n",
    "\n",
    "Pasos para aplicar la prueba:\n",
    "\n",
    "1. Tomar la serie de N números pseudo-aleatorios.\n",
    "\n",
    "2. Dividir la serie en n intervalos (grados libertad)\n",
    "\n",
    "3. Calcular la esperanza\n",
    "E_i=N/n\n",
    "4. Calcular la cantidad de números observados por intervalo\n",
    "\n",
    "O_i\n",
    "5. Calcular Chi – Cuadrado:\n",
    "χ_0^2=(∑_(i=1)^k 〖(O_i-E_i)〗^2)/E_i \n",
    "6. Si     χ_0^2⩽χ_(k-1)^2          se acepta H0  (los números están distribuidos uniformemente)\n",
    "\n",
    "Ejemplo de aplicación:\n",
    "\n",
    "[Fuente]: http://www.mat.uda.cl/hsalinas/cursos/2010/eyp2/Tabla%20Chi-Cuadrado.pdf\n",
    "\n",
    "Realice un programa que permita calcular el valor de Chi-Cuadrada y genere la gráfica de distribución de los 100 primeros números pseudo-aleatorios generados por los métodos de cuadrados medios y productos medios.\n",
    "\n",
    "Emplee el siguiente nivel de significancia α=0.05\n",
    "\n",
    "Las semillas para generar los números son las siguientes:\n",
    "\n",
    " Cuadrados medios: Xo=74731897457, D=7\n",
    " Congruencia lineal: a=74731897457, b=37747318974, Xo=7, M=19\n",
    "\n",
    "#### DESAROLLO DEL PROBLEMA"
   ]
  },
  {
   "cell_type": "code",
   "execution_count": 3,
   "metadata": {},
   "outputs": [],
   "source": [
    "#Importamos librerias\n",
    "import matplotlib.pyplot as plt\n",
    "from tabulate import tabulate\n",
    "#from prettytable import PrettyTable\n",
    "import pandas as pd"
   ]
  },
  {
   "cell_type": "markdown",
   "metadata": {},
   "source": [
    "Indica cuantas posiciones hacia adelanta o atrás puedo correr en base a la mitad de un numero, esto para poder sacar una cantidad de números."
   ]
  },
  {
   "cell_type": "code",
   "execution_count": 4,
   "metadata": {},
   "outputs": [],
   "source": [
    "def medios(digs):\n",
    "    if digs % 2 != 0:\n",
    "        return int(digs / 2), int(digs / 2) + 1\n",
    "    else:\n",
    "        return int(digs / 2), int(digs / 2)"
   ]
  },
  {
   "cell_type": "markdown",
   "metadata": {},
   "source": [
    "Calculara el cuadrado medio y me retorna una lista de números entre [0-1] en base a la a una semilla y la cantidad de números medios que deseo sacar."
   ]
  },
  {
   "cell_type": "code",
   "execution_count": 5,
   "metadata": {},
   "outputs": [],
   "source": [
    "def cuadrados_medios(iters, semilla, dig):\n",
    "    lista = []\n",
    "    posI, posF = medios(dig)\n",
    "    num = int(semilla)\n",
    "    for i in range(iters):\n",
    "        num = num ** 2\n",
    "        tam = len(str(num))\n",
    "        centro = str(num)[int(tam / 2) - posI: int(tam / 2) + posF]\n",
    "        rd = round(int(centro) / 10 ** dig, 2)\n",
    "        lista.append(rd)\n",
    "        num = int(centro)\n",
    "    return lista"
   ]
  },
  {
   "cell_type": "markdown",
   "metadata": {},
   "source": [
    "Calculara la congruencia lineal y me retorna una lista de números entre [0-1] en base a la a una semilla y la cantidad de números medios que deseo sacar."
   ]
  },
  {
   "cell_type": "code",
   "execution_count": 6,
   "metadata": {},
   "outputs": [],
   "source": [
    "def congruencia(semilla,iteraciones,a,c,m, dig):\n",
    "    lista = []\n",
    "    for i in range(1, iteraciones):\n",
    "        xn = (a*semilla + c) % m\n",
    "        semilla = xn\n",
    "        lista.append(round(xn/((dig*2)+(dig/2)+1),2))\n",
    "    return lista"
   ]
  },
  {
   "cell_type": "markdown",
   "metadata": {},
   "source": [
    "Retorna un diccionario con la cantidad de veces que un número se encuentra en una lista, para esto se recorre la lista que se necesita como parámetro."
   ]
  },
  {
   "cell_type": "code",
   "execution_count": 7,
   "metadata": {},
   "outputs": [],
   "source": [
    "def cantidad_lista(lista):\n",
    "    dic = {}\n",
    "    p1 = 0\n",
    "    for i in range(0, 10):\n",
    "        name = str(float(i) / 10) + \"-\" + str(float(i + 1) / 10)\n",
    "        dic[name] = len(list(filter(lambda x: p1 < x < p1 + 0.1, lista)))\n",
    "        p1 += 0.1\n",
    "    return dic"
   ]
  },
  {
   "cell_type": "markdown",
   "metadata": {},
   "source": [
    "Grafica un diccionario en base a un diccionario, obtenido las claves y valores del mismo."
   ]
  },
  {
   "cell_type": "code",
   "execution_count": 13,
   "metadata": {},
   "outputs": [],
   "source": [
    "def plot_histrograma(dic):\n",
    "    plt.figure(figsize=(15, 5))\n",
    "    keys = dic.keys()\n",
    "    values = dic.values()\n",
    "    plt.bar(keys, values, color=\"green\")\n",
    "    plt.title(\"Histograma de los rangos\")\n",
    "    plt.show()"
   ]
  },
  {
   "cell_type": "markdown",
   "metadata": {},
   "source": [
    "Realiza los distintos procesos del chi cuadrado en base a un diccionario que cuenta con el rango y el numero de repeticiones, los cálculos a realizar necesario como “(Oi – Ei)²/Ei”. Retorna un dataFrame para mejor trabajo, la suma total del chi cuadrado y la validacion de la diferencia entre la distribución de ji cuadrado."
   ]
  },
  {
   "cell_type": "code",
   "execution_count": 9,
   "metadata": {},
   "outputs": [],
   "source": [
    "def chi_cuadrado(dic, val_vali):\n",
    "    ei = []\n",
    "    oi = []\n",
    "    to = []\n",
    "    for i in list(dic.keys()):\n",
    "        ei.append(i)\n",
    "        oi.append(dic[i])\n",
    "        to.append((len(dic) - dic[i]) ** 2 / len(dic))\n",
    "    d = {'Ei': ei, 'Oi': oi, \"(Oi – Ei)²/Ei\": to}\n",
    "    df = pd.DataFrame(data=d)\n",
    "    total = df['(Oi – Ei)²/Ei'].sum()\n",
    "    validacion = total < val_vali\n",
    "    return df, total, validacion"
   ]
  },
  {
   "cell_type": "markdown",
   "metadata": {},
   "source": [
    "#### CALCULO DEL CHI CUADRADO (CUADRADOS MEDIOS)"
   ]
  },
  {
   "cell_type": "code",
   "execution_count": 14,
   "metadata": {},
   "outputs": [
    {
     "data": {
      "image/png": "[encoded data removed]",
      "text/plain": [
       "<Figure size 1080x360 with 1 Axes>"
      ]
     },
     "metadata": {
      "needs_background": "light"
     },
     "output_type": "display_data"
    },
    {
     "name": "stdout",
     "output_type": "stream",
     "text": [
      "Total de (Oi – Ei)²/Ei 12.799999999999999\n",
      "La distribución uniforme SE acepta\n",
      "Valores del Chi Cuadrado\n"
     ]
    },
    {
     "data": {
      "text/html": [
       "<div>\n",
       "<style scoped>\n",
       "    .dataframe tbody tr th:only-of-type {\n",
       "        vertical-align: middle;\n",
       "    }\n",
       "\n",
       "    .dataframe tbody tr th {\n",
       "        vertical-align: top;\n",
       "    }\n",
       "\n",
       "    .dataframe thead th {\n",
       "        text-align: right;\n",
       "    }\n",
       "</style>\n",
       "<table border=\"1\" class=\"dataframe\">\n",
       "  <thead>\n",
       "    <tr style=\"text-align: right;\">\n",
       "      <th></th>\n",
       "      <th>Ei</th>\n",
       "      <th>Oi</th>\n",
       "      <th>(Oi – Ei)²/Ei</th>\n",
       "    </tr>\n",
       "  </thead>\n",
       "  <tbody>\n",
       "    <tr>\n",
       "      <th>0</th>\n",
       "      <td>0.0-0.1</td>\n",
       "      <td>5</td>\n",
       "      <td>2.5</td>\n",
       "    </tr>\n",
       "    <tr>\n",
       "      <th>1</th>\n",
       "      <td>0.1-0.2</td>\n",
       "      <td>16</td>\n",
       "      <td>3.6</td>\n",
       "    </tr>\n",
       "    <tr>\n",
       "      <th>2</th>\n",
       "      <td>0.2-0.3</td>\n",
       "      <td>12</td>\n",
       "      <td>0.4</td>\n",
       "    </tr>\n",
       "    <tr>\n",
       "      <th>3</th>\n",
       "      <td>0.3-0.4</td>\n",
       "      <td>6</td>\n",
       "      <td>1.6</td>\n",
       "    </tr>\n",
       "    <tr>\n",
       "      <th>4</th>\n",
       "      <td>0.4-0.5</td>\n",
       "      <td>11</td>\n",
       "      <td>0.1</td>\n",
       "    </tr>\n",
       "    <tr>\n",
       "      <th>5</th>\n",
       "      <td>0.5-0.6</td>\n",
       "      <td>9</td>\n",
       "      <td>0.1</td>\n",
       "    </tr>\n",
       "    <tr>\n",
       "      <th>6</th>\n",
       "      <td>0.6-0.7</td>\n",
       "      <td>6</td>\n",
       "      <td>1.6</td>\n",
       "    </tr>\n",
       "    <tr>\n",
       "      <th>7</th>\n",
       "      <td>0.7-0.8</td>\n",
       "      <td>5</td>\n",
       "      <td>2.5</td>\n",
       "    </tr>\n",
       "    <tr>\n",
       "      <th>8</th>\n",
       "      <td>0.8-0.9</td>\n",
       "      <td>8</td>\n",
       "      <td>0.4</td>\n",
       "    </tr>\n",
       "    <tr>\n",
       "      <th>9</th>\n",
       "      <td>0.9-1.0</td>\n",
       "      <td>10</td>\n",
       "      <td>0.0</td>\n",
       "    </tr>\n",
       "  </tbody>\n",
       "</table>\n",
       "</div>"
      ],
      "text/plain": [
       "        Ei  Oi  (Oi – Ei)²/Ei\n",
       "0  0.0-0.1   5            2.5\n",
       "1  0.1-0.2  16            3.6\n",
       "2  0.2-0.3  12            0.4\n",
       "3  0.3-0.4   6            1.6\n",
       "4  0.4-0.5  11            0.1\n",
       "5  0.5-0.6   9            0.1\n",
       "6  0.6-0.7   6            1.6\n",
       "7  0.7-0.8   5            2.5\n",
       "8  0.8-0.9   8            0.4\n",
       "9  0.9-1.0  10            0.0"
      ]
     },
     "execution_count": 14,
     "metadata": {},
     "output_type": "execute_result"
    }
   ],
   "source": [
    "# Valor de semilla para cuadrados medios \n",
    "semilla = 74731897457\n",
    "# Cantidad de numeros de cuadrados medios a obtener\n",
    "cantidad = 100\n",
    "# numero de dijitos medios a obtener en cuadrados medios\n",
    "digs = 7\n",
    "# Numero a validar de ji cuadrado 0.005 y 9 \n",
    "val_ji = 16.9\n",
    "# Obtencion de una lista de @cantidad de numeros aleatorios con cuadrados medios\n",
    "lista = cuadrados_medios(cantidad, semilla, digs)\n",
    "# Calculo de repeticion de los numeros en el rango [0.0 - 0.1, . . 0.9 - 1]\n",
    "dic = cantidad_lista(lista)\n",
    "# Graficamos la distribucion de los rangos\n",
    "plot_histrograma(dic)\n",
    "# Calculamos el chi cuandrado y obtemos el df con los calculos y el total de eso\n",
    "df, total, val = chi_cuadrado(dic, val_ji)\n",
    "print(\"Total de (Oi – Ei)²/Ei\", total)\n",
    "print(f\"La distribución uniforme { 'SE' if val else 'NO SE'} acepta\")\n",
    "print(\"Valores del Chi Cuadrado\")\n",
    "df"
   ]
  },
  {
   "cell_type": "markdown",
   "metadata": {},
   "source": [
    "#### CALCULO DEL CHI CUADRADO (CONCRUENCIA LINEAL)"
   ]
  },
  {
   "cell_type": "code",
   "execution_count": 15,
   "metadata": {},
   "outputs": [
    {
     "data": {
      "image/png": "[encoded data removed]",
      "text/plain": [
       "<Figure size 1080x360 with 1 Axes>"
      ]
     },
     "metadata": {
      "needs_background": "light"
     },
     "output_type": "display_data"
    },
    {
     "name": "stdout",
     "output_type": "stream",
     "text": [
      "Total de (Oi – Ei)²/Ei 69.2 \n",
      " \n",
      "\n",
      "La distribución uniforme NO SE acepta\n",
      "Valores del Chi Cuadrado\n"
     ]
    },
    {
     "data": {
      "text/html": [
       "<div>\n",
       "<style scoped>\n",
       "    .dataframe tbody tr th:only-of-type {\n",
       "        vertical-align: middle;\n",
       "    }\n",
       "\n",
       "    .dataframe tbody tr th {\n",
       "        vertical-align: top;\n",
       "    }\n",
       "\n",
       "    .dataframe thead th {\n",
       "        text-align: right;\n",
       "    }\n",
       "</style>\n",
       "<table border=\"1\" class=\"dataframe\">\n",
       "  <thead>\n",
       "    <tr style=\"text-align: right;\">\n",
       "      <th></th>\n",
       "      <th>Ei</th>\n",
       "      <th>Oi</th>\n",
       "      <th>(Oi – Ei)²/Ei</th>\n",
       "    </tr>\n",
       "  </thead>\n",
       "  <tbody>\n",
       "    <tr>\n",
       "      <th>0</th>\n",
       "      <td>0.0-0.1</td>\n",
       "      <td>0</td>\n",
       "      <td>10.0</td>\n",
       "    </tr>\n",
       "    <tr>\n",
       "      <th>1</th>\n",
       "      <td>0.1-0.2</td>\n",
       "      <td>11</td>\n",
       "      <td>0.1</td>\n",
       "    </tr>\n",
       "    <tr>\n",
       "      <th>2</th>\n",
       "      <td>0.2-0.3</td>\n",
       "      <td>0</td>\n",
       "      <td>10.0</td>\n",
       "    </tr>\n",
       "    <tr>\n",
       "      <th>3</th>\n",
       "      <td>0.3-0.4</td>\n",
       "      <td>22</td>\n",
       "      <td>14.4</td>\n",
       "    </tr>\n",
       "    <tr>\n",
       "      <th>4</th>\n",
       "      <td>0.4-0.5</td>\n",
       "      <td>0</td>\n",
       "      <td>10.0</td>\n",
       "    </tr>\n",
       "    <tr>\n",
       "      <th>5</th>\n",
       "      <td>0.5-0.6</td>\n",
       "      <td>0</td>\n",
       "      <td>10.0</td>\n",
       "    </tr>\n",
       "    <tr>\n",
       "      <th>6</th>\n",
       "      <td>0.6-0.7</td>\n",
       "      <td>11</td>\n",
       "      <td>0.1</td>\n",
       "    </tr>\n",
       "    <tr>\n",
       "      <th>7</th>\n",
       "      <td>0.7-0.8</td>\n",
       "      <td>11</td>\n",
       "      <td>0.1</td>\n",
       "    </tr>\n",
       "    <tr>\n",
       "      <th>8</th>\n",
       "      <td>0.8-0.9</td>\n",
       "      <td>11</td>\n",
       "      <td>0.1</td>\n",
       "    </tr>\n",
       "    <tr>\n",
       "      <th>9</th>\n",
       "      <td>0.9-1.0</td>\n",
       "      <td>22</td>\n",
       "      <td>14.4</td>\n",
       "    </tr>\n",
       "  </tbody>\n",
       "</table>\n",
       "</div>"
      ],
      "text/plain": [
       "        Ei  Oi  (Oi – Ei)²/Ei\n",
       "0  0.0-0.1   0           10.0\n",
       "1  0.1-0.2  11            0.1\n",
       "2  0.2-0.3   0           10.0\n",
       "3  0.3-0.4  22           14.4\n",
       "4  0.4-0.5   0           10.0\n",
       "5  0.5-0.6   0           10.0\n",
       "6  0.6-0.7  11            0.1\n",
       "7  0.7-0.8  11            0.1\n",
       "8  0.8-0.9  11            0.1\n",
       "9  0.9-1.0  22           14.4"
      ]
     },
     "execution_count": 15,
     "metadata": {},
     "output_type": "execute_result"
    }
   ],
   "source": [
    "#Valor de semilla para congruencia lieal\n",
    "semilla = 74731897457\n",
    "#Cantidad de numeros de congruencia lieal a obtener\n",
    "cantidad = 100\n",
    "#numero para calculo de rango entre 0 - 1\n",
    "digs = 7\n",
    "#numero a validar de ji cuadrado 0.005 y 9 \n",
    "val_ji = 16.9\n",
    "#Valores inicial de congruencia lieal\n",
    "a=74731897457\n",
    "c=37747318974\n",
    "M=19 #mod == %\n",
    "\n",
    "#Obtencion de una lista de @cantidad de numeros aleatorios con congruencia lieal\n",
    "lista = congruencia(semilla, cantidad,a,c,M,digs)\n",
    "dic = cantidad_lista(lista)\n",
    "#Calculo de repeticion de los numeros en el rango [0.0 - 0.1, . . 0.9 - 1]\n",
    "dic = cantidad_lista(lista)\n",
    "#Graficamos la distribucion de los rangos\n",
    "plot_histrograma(dic)\n",
    "#Calculamos el chi cuandrado y obtemos el df con los calculos y el total de eso\n",
    "df, total, val = chi_cuadrado(dic, val_ji)\n",
    "print(\"Total de (Oi – Ei)²/Ei\", total, \"\\n \\n\")\n",
    "print(f\"La distribución uniforme { 'SE' if val else 'NO SE'} acepta\")\n",
    "print(\"Valores del Chi Cuadrado\")\n",
    "df"
   ]
  },
  {
   "cell_type": "markdown",
   "metadata": {},
   "source": [
    "## Referencias:\n",
    "[1] : https://www.ncbi.nlm.nih.gov/pmc/articles/PMC6291769/   \n",
    "[2]: https://blog.inconcertcc.com/automatiza-el-marketing-digital-en-tus-redes-sociales/  \n",
    "[3]: http://www.mat.uda.cl/hsalinas/cursos/2010/eyp2/Tabla%20Chi-Cuadrado.pdf\n"
   ]
  },
  {
   "cell_type": "code",
   "execution_count": null,
   "metadata": {},
   "outputs": [],
   "source": []
  }
 ],
 "metadata": {
  "kernelspec": {
   "display_name": "Python 3",
   "language": "python",
   "name": "python3"
  },
  "language_info": {
   "codemirror_mode": {
    "name": "ipython",
    "version": 3
   },
   "file_extension": ".py",
   "mimetype": "text/x-python",
   "name": "python",
   "nbconvert_exporter": "python",
   "pygments_lexer": "ipython3",
   "version": "3.7.3"
  }
 },
 "nbformat": 4,
 "nbformat_minor": 4
}
